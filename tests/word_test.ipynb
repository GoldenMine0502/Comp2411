{
 "cells": [
  {
   "cell_type": "code",
   "id": "initial_id",
   "metadata": {
    "collapsed": true,
    "ExecuteTime": {
     "end_time": "2024-11-15T11:16:58.830145Z",
     "start_time": "2024-11-15T11:16:57.477776Z"
    }
   },
   "source": [
    "import torch\n",
    "from transformers import PreTrainedTokenizerFast\n",
    "from transformers import BartForConditionalGeneration\n"
   ],
   "outputs": [],
   "execution_count": 1
  },
  {
   "metadata": {
    "ExecuteTime": {
     "end_time": "2024-11-15T11:17:00.681736Z",
     "start_time": "2024-11-15T11:16:59.520536Z"
    }
   },
   "cell_type": "code",
   "source": [
    "tokenizer = PreTrainedTokenizerFast.from_pretrained('Soyoung97/gec_kr')\n",
    "model = BartForConditionalGeneration.from_pretrained('Soyoung97/gec_kr')"
   ],
   "id": "c87795229518e8c4",
   "outputs": [
    {
     "name": "stderr",
     "output_type": "stream",
     "text": [
      "You passed along `num_labels=3` with an incompatible id to label map: {'0': 'NEGATIVE', '1': 'POSITIVE'}. The number of labels wil be overwritten to 2.\n"
     ]
    }
   ],
   "execution_count": 2
  },
  {
   "metadata": {
    "ExecuteTime": {
     "end_time": "2024-11-15T11:17:02.699502Z",
     "start_time": "2024-11-15T11:17:02.695675Z"
    }
   },
   "cell_type": "code",
   "source": [
    "def get_clean_text(text):\n",
    "    raw_input_ids = tokenizer.encode(text)\n",
    "    input_ids = [tokenizer.bos_token_id] + raw_input_ids + [tokenizer.eos_token_id]\n",
    "    corrected_ids = model.generate(torch.tensor([input_ids]),\n",
    "                                    max_length=128,\n",
    "                                    eos_token_id=1, num_beams=4,\n",
    "                                    early_stopping=True, repetition_penalty=2.0)\n",
    "    output_text = tokenizer.decode(corrected_ids.squeeze().tolist(), skip_special_tokens=True)\n",
    "    \n",
    "    return output_text"
   ],
   "id": "228eb027012120af",
   "outputs": [],
   "execution_count": 3
  },
  {
   "metadata": {
    "ExecuteTime": {
     "end_time": "2024-11-15T11:17:05.647905Z",
     "start_time": "2024-11-15T11:17:04.096602Z"
    }
   },
   "cell_type": "code",
   "source": [
    "text = '토끼와 거북이는 틀리다.'\n",
    "get_clean_text(text)"
   ],
   "id": "aba5ff367f715bb5",
   "outputs": [
    {
     "data": {
      "text/plain": [
       "'토끼와 거북이는 다르다.'"
      ]
     },
     "execution_count": 4,
     "metadata": {},
     "output_type": "execute_result"
    }
   ],
   "execution_count": 4
  },
  {
   "metadata": {
    "ExecuteTime": {
     "end_time": "2024-11-15T11:17:11.768662Z",
     "start_time": "2024-11-15T11:17:11.553061Z"
    }
   },
   "cell_type": "code",
   "source": [
    "text = '한국어는어렵다'\n",
    "get_clean_text(text)"
   ],
   "id": "16b0e4e85a46a808",
   "outputs": [
    {
     "data": {
      "text/plain": [
       "'한국어는 어렵다'"
      ]
     },
     "execution_count": 6,
     "metadata": {},
     "output_type": "execute_result"
    }
   ],
   "execution_count": 6
  },
  {
   "metadata": {
    "ExecuteTime": {
     "end_time": "2024-11-15T11:18:45.072906Z",
     "start_time": "2024-11-15T11:18:44.866764Z"
    }
   },
   "cell_type": "code",
   "source": [
    "text = '한국어는매우어렵다'\n",
    "get_clean_text(text)"
   ],
   "id": "c8acc5fb407121f7",
   "outputs": [
    {
     "data": {
      "text/plain": [
       "'한국어는 어렵다.'"
      ]
     },
     "execution_count": 8,
     "metadata": {},
     "output_type": "execute_result"
    }
   ],
   "execution_count": 8
  },
  {
   "metadata": {},
   "cell_type": "code",
   "outputs": [],
   "execution_count": null,
   "source": "",
   "id": "1e0a9414ea61562e"
  }
 ],
 "metadata": {
  "kernelspec": {
   "display_name": "Python 3",
   "language": "python",
   "name": "python3"
  },
  "language_info": {
   "codemirror_mode": {
    "name": "ipython",
    "version": 2
   },
   "file_extension": ".py",
   "mimetype": "text/x-python",
   "name": "python",
   "nbconvert_exporter": "python",
   "pygments_lexer": "ipython2",
   "version": "2.7.6"
  }
 },
 "nbformat": 4,
 "nbformat_minor": 5
}
